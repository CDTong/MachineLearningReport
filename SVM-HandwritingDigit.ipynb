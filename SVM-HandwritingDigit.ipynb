{
 "cells": [
  {
   "cell_type": "code",
   "execution_count": 7,
   "metadata": {},
   "outputs": [],
   "source": [
    "from PIL import Image\n",
    "import os\n",
    "import sys\n",
    "import numpy as np\n",
    "import time\n",
    "from sklearn import svm\n",
    "from sklearn.externals import joblib"
   ]
  },
  {
   "cell_type": "code",
   "execution_count": 11,
   "metadata": {},
   "outputs": [],
   "source": [
    "#get images from assigned path\n",
    "def get_file_list(path):\n",
    "    return [os.path.join(path, f) for f in os.listdir(path) if f.endswith(\".png\")]\n",
    "\n",
    "#get the name of images\n",
    "def get_img_name_str(imgPath):\n",
    "    return imgPath.split(os.path.sep)[-1]\n",
    "\n",
    "#turn the image into a numpy vector\n",
    "#turn into grayscale image and each pixel is represented by 8 bits\n",
    "def img2vector(imgFile):\n",
    "    img = Image.open(imgFile).convert('L')\n",
    "    img_arr = np.array(img, 'i')\n",
    "    img_normalization = np.round(img_arr / 255)\n",
    "    img_arr2 = np.reshape(img_normalization, (1, -1))\n",
    "    return img_arr2\n",
    "\n",
    "#read one number and convert it into a vector\n",
    "def read_and_convert(imgFileList):\n",
    "    dataLabel = [] \n",
    "    dataNum = len(imgFileList)\n",
    "    dataMat = np.zeros((dataNum, 400))\n",
    "    for i in range(dataNum):\n",
    "        imgNameStr = imgFileList[i]\n",
    "        #get what number is it\n",
    "        imgName = get_img_name_str(imgNameStr)\n",
    "        classTag = imgName.split(\".\")[0].split(\"_\")[0] \n",
    "        dataLabel.append(classTag)\n",
    "        dataMat[i, :] = img2vector(imgNameStr)\n",
    "    return dataMat, dataLabel\n",
    "\n",
    "#read data from 0 to 9\n",
    "def read_all_data():\n",
    "    cName = ['1', '2', '3', '4', '5', '6', '7', '8', '9']\n",
    "    path = sys.path[1]\n",
    "    print('0')\n",
    "    flist = get_file_list(train_data_path)\n",
    "    dataMat, dataLabel = read_and_convert(flist)\n",
    "    for c in cName:\n",
    "        print(c)\n",
    "        train_data_path = os.path.join(path, '/Users/karro/Data/train/') + c\n",
    "        flist_ = get_file_list(train_data_path)\n",
    "        dataMat_, dataLabel_ = read_and_convert(flist_)\n",
    "        dataMat = np.concatenate((dataMat, dataMat_), axis=0)\n",
    "        dataLabel = np.concatenate((dataLabel, dataLabel_), axis=0)\n",
    "    return dataMat, dataLabel\n",
    "\n",
    "# create the svm model\n",
    "def create_svm(dataMat, dataLabel,path,decision='ovr'):\n",
    "    clf = svm.SVC(decision_function_shape=decision)\n",
    "    rf =clf.fit(dataMat, dataLabel)\n",
    "    joblib.dump(rf, path)\n",
    "    print(\"success\")\n",
    "    return clf"
   ]
  },
  {
   "cell_type": "code",
   "execution_count": null,
   "metadata": {},
   "outputs": [],
   "source": [
    "if __name__ == '__main__':\n",
    "    st = time.clock()\n",
    "    dataMat, dataLabel = read_all_data()\n",
    "    path = sys.path[1]\n",
    "    model_path=os.path.join(path,'/Users/karro/model/svm.model')\n",
    "    create_svm(dataMat, dataLabel,model_path, decision='ovr')\n",
    "    et = time.clock()\n",
    "    print(\"Training spent {:.4f}s.\".format((et - st)))"
   ]
  },
  {
   "cell_type": "code",
   "execution_count": 10,
   "metadata": {},
   "outputs": [],
   "source": [
    "test_dataMat_shape = []\n",
    "test_dataLabel_len = []\n",
    "test_time_spent = []\n",
    "test_errCount = []\n",
    "test_computing_score_spent = []\n",
    "test_score = []\n",
    "test_error_rate = []\n",
    "\n",
    "def svmtest(model_path):\n",
    "    path = sys.path[1]\n",
    "    tbasePath = os.path.join(path, \"/Users/karro/Data/test/\")\n",
    "    tcName = ['0', '1', '2', '3', '4', '5', '6', '7', '8', '9']\n",
    "    tst = time.clock()\n",
    "    allErrCount = 0\n",
    "    allErrorRate = 0.0\n",
    "    allScore = 0.0\n",
    "    \n",
    "    \n",
    "    \n",
    "    clf = joblib.load(model_path)\n",
    "    for tcn in tcName:\n",
    "        testPath = tbasePath + tcn\n",
    "\n",
    "        tflist = get_file_list(testPath)\n",
    "\n",
    "        tdataMat, tdataLabel = read_and_convert(tflist)\n",
    "        print(\"test dataMat shape: {0}, test dataLabel len: {1} \".format(tdataMat.shape, len(tdataLabel)))\n",
    "        test_dataMat_shape.append(tdataMat.shape)\n",
    "        test_dataLabel_len.append(len(tdataLabel))\n",
    "        \n",
    "\n",
    "        pre_st = time.clock()\n",
    "        preResult = clf.predict(tdataMat)\n",
    "        pre_et = time.clock()\n",
    "        print(\"Recognition  \" + tcn + \" spent {:.4f}s.\".format((pre_et - pre_st)))\n",
    "        test_time_spent.append(pre_et - pre_st)\n",
    "        \n",
    "        \n",
    "        errCount = len([x for x in preResult if x != tcn])\n",
    "        print(\"errorCount: {}.\".format(errCount))\n",
    "        test_errCount.append(errCount)\n",
    "        \n",
    "        allErrCount += errCount\n",
    "        score_st = time.clock()\n",
    "        score = clf.score(tdataMat, tdataLabel)\n",
    "        score_et = time.clock()\n",
    "        print(\"computing score spent {:.6f}s.\".format(score_et - score_st))\n",
    "        test_computing_score_spent.append(score_et - score_st)\n",
    "        \n",
    "        allScore += score\n",
    "        print(\"score: {:.6f}.\".format(score))\n",
    "        test_score.append(score)\n",
    "        \n",
    "        print(\"error rate is {:.6f}.\".format((1 - score)))\n",
    "        test_error_rate.append(1 - score)\n",
    "\n",
    "    tet = time.clock()\n",
    "    print(\"Testing All class total spent {:.6f}s.\".format(tet - tst))\n",
    "    print(\"All error Count is: {}.\".format(allErrCount))\n",
    "    avgAccuracy = allScore / 10.0\n",
    "    print(\"Average accuracy is: {:.6f}.\".format(avgAccuracy))\n",
    "    print(\"Average error rate is: {:.6f}.\".format(1 - avgAccuracy))"
   ]
  },
  {
   "cell_type": "code",
   "execution_count": 12,
   "metadata": {},
   "outputs": [
    {
     "name": "stderr",
     "output_type": "stream",
     "text": [
      "/opt/anaconda3/lib/python3.7/site-packages/ipykernel_launcher.py:13: DeprecationWarning: time.clock has been deprecated in Python 3.3 and will be removed from Python 3.8: use time.perf_counter or time.process_time instead\n",
      "  del sys.path[0]\n"
     ]
    },
    {
     "name": "stdout",
     "output_type": "stream",
     "text": [
      "test dataMat shape: (980, 400), test dataLabel len: 980 \n"
     ]
    },
    {
     "name": "stderr",
     "output_type": "stream",
     "text": [
      "/opt/anaconda3/lib/python3.7/site-packages/ipykernel_launcher.py:32: DeprecationWarning: time.clock has been deprecated in Python 3.3 and will be removed from Python 3.8: use time.perf_counter or time.process_time instead\n",
      "/opt/anaconda3/lib/python3.7/site-packages/ipykernel_launcher.py:34: DeprecationWarning: time.clock has been deprecated in Python 3.3 and will be removed from Python 3.8: use time.perf_counter or time.process_time instead\n",
      "/opt/anaconda3/lib/python3.7/site-packages/ipykernel_launcher.py:44: DeprecationWarning: time.clock has been deprecated in Python 3.3 and will be removed from Python 3.8: use time.perf_counter or time.process_time instead\n"
     ]
    },
    {
     "name": "stdout",
     "output_type": "stream",
     "text": [
      "Recognition  0 spent 7.6520s.\n",
      "errorCount: 11.\n"
     ]
    },
    {
     "name": "stderr",
     "output_type": "stream",
     "text": [
      "/opt/anaconda3/lib/python3.7/site-packages/ipykernel_launcher.py:46: DeprecationWarning: time.clock has been deprecated in Python 3.3 and will be removed from Python 3.8: use time.perf_counter or time.process_time instead\n"
     ]
    },
    {
     "name": "stdout",
     "output_type": "stream",
     "text": [
      "computing score spent 7.692151s.\n",
      "score: 0.988776.\n",
      "error rate is 0.011224.\n",
      "test dataMat shape: (1135, 400), test dataLabel len: 1135 \n"
     ]
    },
    {
     "name": "stderr",
     "output_type": "stream",
     "text": [
      "/opt/anaconda3/lib/python3.7/site-packages/ipykernel_launcher.py:32: DeprecationWarning: time.clock has been deprecated in Python 3.3 and will be removed from Python 3.8: use time.perf_counter or time.process_time instead\n",
      "/opt/anaconda3/lib/python3.7/site-packages/ipykernel_launcher.py:34: DeprecationWarning: time.clock has been deprecated in Python 3.3 and will be removed from Python 3.8: use time.perf_counter or time.process_time instead\n",
      "/opt/anaconda3/lib/python3.7/site-packages/ipykernel_launcher.py:44: DeprecationWarning: time.clock has been deprecated in Python 3.3 and will be removed from Python 3.8: use time.perf_counter or time.process_time instead\n"
     ]
    },
    {
     "name": "stdout",
     "output_type": "stream",
     "text": [
      "Recognition  1 spent 8.7196s.\n",
      "errorCount: 11.\n"
     ]
    },
    {
     "name": "stderr",
     "output_type": "stream",
     "text": [
      "/opt/anaconda3/lib/python3.7/site-packages/ipykernel_launcher.py:46: DeprecationWarning: time.clock has been deprecated in Python 3.3 and will be removed from Python 3.8: use time.perf_counter or time.process_time instead\n"
     ]
    },
    {
     "name": "stdout",
     "output_type": "stream",
     "text": [
      "computing score spent 8.693110s.\n",
      "score: 0.990308.\n",
      "error rate is 0.009692.\n",
      "test dataMat shape: (1032, 400), test dataLabel len: 1032 \n"
     ]
    },
    {
     "name": "stderr",
     "output_type": "stream",
     "text": [
      "/opt/anaconda3/lib/python3.7/site-packages/ipykernel_launcher.py:32: DeprecationWarning: time.clock has been deprecated in Python 3.3 and will be removed from Python 3.8: use time.perf_counter or time.process_time instead\n",
      "/opt/anaconda3/lib/python3.7/site-packages/ipykernel_launcher.py:34: DeprecationWarning: time.clock has been deprecated in Python 3.3 and will be removed from Python 3.8: use time.perf_counter or time.process_time instead\n",
      "/opt/anaconda3/lib/python3.7/site-packages/ipykernel_launcher.py:44: DeprecationWarning: time.clock has been deprecated in Python 3.3 and will be removed from Python 3.8: use time.perf_counter or time.process_time instead\n"
     ]
    },
    {
     "name": "stdout",
     "output_type": "stream",
     "text": [
      "Recognition  2 spent 8.0713s.\n",
      "errorCount: 57.\n"
     ]
    },
    {
     "name": "stderr",
     "output_type": "stream",
     "text": [
      "/opt/anaconda3/lib/python3.7/site-packages/ipykernel_launcher.py:46: DeprecationWarning: time.clock has been deprecated in Python 3.3 and will be removed from Python 3.8: use time.perf_counter or time.process_time instead\n"
     ]
    },
    {
     "name": "stdout",
     "output_type": "stream",
     "text": [
      "computing score spent 8.126341s.\n",
      "score: 0.944767.\n",
      "error rate is 0.055233.\n",
      "test dataMat shape: (1010, 400), test dataLabel len: 1010 \n"
     ]
    },
    {
     "name": "stderr",
     "output_type": "stream",
     "text": [
      "/opt/anaconda3/lib/python3.7/site-packages/ipykernel_launcher.py:32: DeprecationWarning: time.clock has been deprecated in Python 3.3 and will be removed from Python 3.8: use time.perf_counter or time.process_time instead\n",
      "/opt/anaconda3/lib/python3.7/site-packages/ipykernel_launcher.py:34: DeprecationWarning: time.clock has been deprecated in Python 3.3 and will be removed from Python 3.8: use time.perf_counter or time.process_time instead\n",
      "/opt/anaconda3/lib/python3.7/site-packages/ipykernel_launcher.py:44: DeprecationWarning: time.clock has been deprecated in Python 3.3 and will be removed from Python 3.8: use time.perf_counter or time.process_time instead\n"
     ]
    },
    {
     "name": "stdout",
     "output_type": "stream",
     "text": [
      "Recognition  3 spent 7.8407s.\n",
      "errorCount: 55.\n"
     ]
    },
    {
     "name": "stderr",
     "output_type": "stream",
     "text": [
      "/opt/anaconda3/lib/python3.7/site-packages/ipykernel_launcher.py:46: DeprecationWarning: time.clock has been deprecated in Python 3.3 and will be removed from Python 3.8: use time.perf_counter or time.process_time instead\n"
     ]
    },
    {
     "name": "stdout",
     "output_type": "stream",
     "text": [
      "computing score spent 7.807853s.\n",
      "score: 0.945545.\n",
      "error rate is 0.054455.\n",
      "test dataMat shape: (982, 400), test dataLabel len: 982 \n"
     ]
    },
    {
     "name": "stderr",
     "output_type": "stream",
     "text": [
      "/opt/anaconda3/lib/python3.7/site-packages/ipykernel_launcher.py:32: DeprecationWarning: time.clock has been deprecated in Python 3.3 and will be removed from Python 3.8: use time.perf_counter or time.process_time instead\n",
      "/opt/anaconda3/lib/python3.7/site-packages/ipykernel_launcher.py:34: DeprecationWarning: time.clock has been deprecated in Python 3.3 and will be removed from Python 3.8: use time.perf_counter or time.process_time instead\n",
      "/opt/anaconda3/lib/python3.7/site-packages/ipykernel_launcher.py:44: DeprecationWarning: time.clock has been deprecated in Python 3.3 and will be removed from Python 3.8: use time.perf_counter or time.process_time instead\n"
     ]
    },
    {
     "name": "stdout",
     "output_type": "stream",
     "text": [
      "Recognition  4 spent 7.5204s.\n",
      "errorCount: 44.\n"
     ]
    },
    {
     "name": "stderr",
     "output_type": "stream",
     "text": [
      "/opt/anaconda3/lib/python3.7/site-packages/ipykernel_launcher.py:46: DeprecationWarning: time.clock has been deprecated in Python 3.3 and will be removed from Python 3.8: use time.perf_counter or time.process_time instead\n"
     ]
    },
    {
     "name": "stdout",
     "output_type": "stream",
     "text": [
      "computing score spent 7.386015s.\n",
      "score: 0.955193.\n",
      "error rate is 0.044807.\n",
      "test dataMat shape: (892, 400), test dataLabel len: 892 \n"
     ]
    },
    {
     "name": "stderr",
     "output_type": "stream",
     "text": [
      "/opt/anaconda3/lib/python3.7/site-packages/ipykernel_launcher.py:32: DeprecationWarning: time.clock has been deprecated in Python 3.3 and will be removed from Python 3.8: use time.perf_counter or time.process_time instead\n",
      "/opt/anaconda3/lib/python3.7/site-packages/ipykernel_launcher.py:34: DeprecationWarning: time.clock has been deprecated in Python 3.3 and will be removed from Python 3.8: use time.perf_counter or time.process_time instead\n",
      "/opt/anaconda3/lib/python3.7/site-packages/ipykernel_launcher.py:44: DeprecationWarning: time.clock has been deprecated in Python 3.3 and will be removed from Python 3.8: use time.perf_counter or time.process_time instead\n"
     ]
    },
    {
     "name": "stdout",
     "output_type": "stream",
     "text": [
      "Recognition  5 spent 6.7248s.\n",
      "errorCount: 70.\n"
     ]
    },
    {
     "name": "stderr",
     "output_type": "stream",
     "text": [
      "/opt/anaconda3/lib/python3.7/site-packages/ipykernel_launcher.py:46: DeprecationWarning: time.clock has been deprecated in Python 3.3 and will be removed from Python 3.8: use time.perf_counter or time.process_time instead\n"
     ]
    },
    {
     "name": "stdout",
     "output_type": "stream",
     "text": [
      "computing score spent 6.710108s.\n",
      "score: 0.921525.\n",
      "error rate is 0.078475.\n",
      "test dataMat shape: (958, 400), test dataLabel len: 958 \n"
     ]
    },
    {
     "name": "stderr",
     "output_type": "stream",
     "text": [
      "/opt/anaconda3/lib/python3.7/site-packages/ipykernel_launcher.py:32: DeprecationWarning: time.clock has been deprecated in Python 3.3 and will be removed from Python 3.8: use time.perf_counter or time.process_time instead\n",
      "/opt/anaconda3/lib/python3.7/site-packages/ipykernel_launcher.py:34: DeprecationWarning: time.clock has been deprecated in Python 3.3 and will be removed from Python 3.8: use time.perf_counter or time.process_time instead\n",
      "/opt/anaconda3/lib/python3.7/site-packages/ipykernel_launcher.py:44: DeprecationWarning: time.clock has been deprecated in Python 3.3 and will be removed from Python 3.8: use time.perf_counter or time.process_time instead\n"
     ]
    },
    {
     "name": "stdout",
     "output_type": "stream",
     "text": [
      "Recognition  6 spent 7.2074s.\n",
      "errorCount: 27.\n"
     ]
    },
    {
     "name": "stderr",
     "output_type": "stream",
     "text": [
      "/opt/anaconda3/lib/python3.7/site-packages/ipykernel_launcher.py:46: DeprecationWarning: time.clock has been deprecated in Python 3.3 and will be removed from Python 3.8: use time.perf_counter or time.process_time instead\n"
     ]
    },
    {
     "name": "stdout",
     "output_type": "stream",
     "text": [
      "computing score spent 7.217250s.\n",
      "score: 0.971816.\n",
      "error rate is 0.028184.\n",
      "test dataMat shape: (1028, 400), test dataLabel len: 1028 \n"
     ]
    },
    {
     "name": "stderr",
     "output_type": "stream",
     "text": [
      "/opt/anaconda3/lib/python3.7/site-packages/ipykernel_launcher.py:32: DeprecationWarning: time.clock has been deprecated in Python 3.3 and will be removed from Python 3.8: use time.perf_counter or time.process_time instead\n",
      "/opt/anaconda3/lib/python3.7/site-packages/ipykernel_launcher.py:34: DeprecationWarning: time.clock has been deprecated in Python 3.3 and will be removed from Python 3.8: use time.perf_counter or time.process_time instead\n",
      "/opt/anaconda3/lib/python3.7/site-packages/ipykernel_launcher.py:44: DeprecationWarning: time.clock has been deprecated in Python 3.3 and will be removed from Python 3.8: use time.perf_counter or time.process_time instead\n"
     ]
    },
    {
     "name": "stdout",
     "output_type": "stream",
     "text": [
      "Recognition  7 spent 7.9543s.\n",
      "errorCount: 66.\n"
     ]
    },
    {
     "name": "stderr",
     "output_type": "stream",
     "text": [
      "/opt/anaconda3/lib/python3.7/site-packages/ipykernel_launcher.py:46: DeprecationWarning: time.clock has been deprecated in Python 3.3 and will be removed from Python 3.8: use time.perf_counter or time.process_time instead\n"
     ]
    },
    {
     "name": "stdout",
     "output_type": "stream",
     "text": [
      "computing score spent 7.822406s.\n",
      "score: 0.935798.\n",
      "error rate is 0.064202.\n",
      "test dataMat shape: (974, 400), test dataLabel len: 974 \n"
     ]
    },
    {
     "name": "stderr",
     "output_type": "stream",
     "text": [
      "/opt/anaconda3/lib/python3.7/site-packages/ipykernel_launcher.py:32: DeprecationWarning: time.clock has been deprecated in Python 3.3 and will be removed from Python 3.8: use time.perf_counter or time.process_time instead\n",
      "/opt/anaconda3/lib/python3.7/site-packages/ipykernel_launcher.py:34: DeprecationWarning: time.clock has been deprecated in Python 3.3 and will be removed from Python 3.8: use time.perf_counter or time.process_time instead\n",
      "/opt/anaconda3/lib/python3.7/site-packages/ipykernel_launcher.py:44: DeprecationWarning: time.clock has been deprecated in Python 3.3 and will be removed from Python 3.8: use time.perf_counter or time.process_time instead\n"
     ]
    },
    {
     "name": "stdout",
     "output_type": "stream",
     "text": [
      "Recognition  8 spent 7.3287s.\n",
      "errorCount: 75.\n"
     ]
    },
    {
     "name": "stderr",
     "output_type": "stream",
     "text": [
      "/opt/anaconda3/lib/python3.7/site-packages/ipykernel_launcher.py:46: DeprecationWarning: time.clock has been deprecated in Python 3.3 and will be removed from Python 3.8: use time.perf_counter or time.process_time instead\n"
     ]
    },
    {
     "name": "stdout",
     "output_type": "stream",
     "text": [
      "computing score spent 7.319409s.\n",
      "score: 0.922998.\n",
      "error rate is 0.077002.\n",
      "test dataMat shape: (1009, 400), test dataLabel len: 1009 \n"
     ]
    },
    {
     "name": "stderr",
     "output_type": "stream",
     "text": [
      "/opt/anaconda3/lib/python3.7/site-packages/ipykernel_launcher.py:32: DeprecationWarning: time.clock has been deprecated in Python 3.3 and will be removed from Python 3.8: use time.perf_counter or time.process_time instead\n",
      "/opt/anaconda3/lib/python3.7/site-packages/ipykernel_launcher.py:34: DeprecationWarning: time.clock has been deprecated in Python 3.3 and will be removed from Python 3.8: use time.perf_counter or time.process_time instead\n",
      "/opt/anaconda3/lib/python3.7/site-packages/ipykernel_launcher.py:44: DeprecationWarning: time.clock has been deprecated in Python 3.3 and will be removed from Python 3.8: use time.perf_counter or time.process_time instead\n"
     ]
    },
    {
     "name": "stdout",
     "output_type": "stream",
     "text": [
      "Recognition  9 spent 7.5908s.\n",
      "errorCount: 79.\n",
      "computing score spent 7.585281s.\n",
      "score: 0.921705.\n",
      "error rate is 0.078295.\n",
      "Testing All class total spent 160.146085s.\n",
      "All error Count is: 495.\n",
      "Average accuracy is: 0.949843.\n",
      "Average error rate is: 0.050157.\n"
     ]
    },
    {
     "name": "stderr",
     "output_type": "stream",
     "text": [
      "/opt/anaconda3/lib/python3.7/site-packages/ipykernel_launcher.py:46: DeprecationWarning: time.clock has been deprecated in Python 3.3 and will be removed from Python 3.8: use time.perf_counter or time.process_time instead\n",
      "/opt/anaconda3/lib/python3.7/site-packages/ipykernel_launcher.py:57: DeprecationWarning: time.clock has been deprecated in Python 3.3 and will be removed from Python 3.8: use time.perf_counter or time.process_time instead\n"
     ]
    }
   ],
   "source": [
    "#test\n",
    "if __name__ == '__main__':\n",
    "    path = sys.path[1]\n",
    "    model_path=os.path.join(path,'/Users/karro/model/svm.model')\n",
    "    svmtest(model_path)"
   ]
  },
  {
   "cell_type": "code",
   "execution_count": 13,
   "metadata": {},
   "outputs": [
    {
     "name": "stdout",
     "output_type": "stream",
     "text": [
      "[(980, 400), (1135, 400), (1032, 400), (1010, 400), (982, 400), (892, 400), (958, 400), (1028, 400), (974, 400), (1009, 400)]\n",
      "[980, 1135, 1032, 1010, 982, 892, 958, 1028, 974, 1009]\n",
      "[7.65202, 8.719593, 8.071251000000004, 7.840716999999998, 7.520447000000004, 6.724840999999998, 7.207431, 7.954324, 7.328652000000005, 7.5908019999999965]\n",
      "[11, 11, 57, 55, 44, 70, 27, 66, 75, 79]\n",
      "[7.692150999999999, 8.69311, 8.126341000000004, 7.8078530000000015, 7.386015, 6.710107999999991, 7.217249999999993, 7.822406000000001, 7.319409000000007, 7.585281000000009]\n",
      "[0.9887755102040816, 0.9903083700440528, 0.9447674418604651, 0.9455445544554455, 0.955193482688391, 0.92152466367713, 0.9718162839248434, 0.9357976653696498, 0.9229979466119097, 0.9217046580773043]\n",
      "[0.011224489795918391, 0.00969162995594719, 0.05523255813953487, 0.054455445544554504, 0.044806517311609007, 0.07847533632286996, 0.028183716075156573, 0.06420233463035019, 0.0770020533880903, 0.07829534192269572]\n"
     ]
    }
   ],
   "source": [
    "print(test_dataMat_shape)\n",
    "print(test_dataLabel_len)\n",
    "print(test_time_spent)\n",
    "print(test_errCount)\n",
    "print(test_computing_score_spent)\n",
    "print(test_score)\n",
    "print(test_error_rate)"
   ]
  },
  {
   "cell_type": "code",
   "execution_count": 1,
   "metadata": {},
   "outputs": [],
   "source": [
    "import matplotlib.pyplot as plt"
   ]
  },
  {
   "cell_type": "code",
   "execution_count": 21,
   "metadata": {},
   "outputs": [
    {
     "data": {
      "image/png": "[encoded data removed]",
      "text/plain": [
       "<Figure size 432x288 with 1 Axes>"
      ]
     },
     "metadata": {
      "needs_background": "light"
     },
     "output_type": "display_data"
    }
   ],
   "source": [
    "num=[0,1,2,3,4,5,6,7,8,9]\n",
    "score=[0.9887755102040816, \n",
    "       0.9903083700440528, \n",
    "       0.9447674418604651,\n",
    "       0.9455445544554455, \n",
    "       0.955193482688391, \n",
    "       0.92152466367713, \n",
    "       0.9718162839248434, \n",
    "       0.9357976653696498,  \n",
    "       0.9229979466119097, \n",
    "       0.9217046580773043]\n",
    "plt.bar(num,score,log=True)\n",
    "plt.show()"
   ]
  },
  {
   "cell_type": "code",
   "execution_count": null,
   "metadata": {},
   "outputs": [],
   "source": []
  }
 ],
 "metadata": {
  "kernelspec": {
   "display_name": "Python 3",
   "language": "python",
   "name": "python3"
  },
  "language_info": {
   "codemirror_mode": {
    "name": "ipython",
    "version": 3
   },
   "file_extension": ".py",
   "mimetype": "text/x-python",
   "name": "python",
   "nbconvert_exporter": "python",
   "pygments_lexer": "ipython3",
   "version": "3.7.4"
  }
 },
 "nbformat": 4,
 "nbformat_minor": 2
}
