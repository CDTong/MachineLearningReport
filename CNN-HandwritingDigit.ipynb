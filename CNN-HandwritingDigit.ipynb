{
 "cells": [
  {
   "cell_type": "code",
   "execution_count": 3,
   "metadata": {},
   "outputs": [],
   "source": [
    "from PIL import Image\n",
    "import os\n",
    "import sys\n",
    "import numpy as np\n",
    "import time\n",
    "from sklearn import svm\n",
    "from sklearn.externals import joblib\n",
    "import pandas as pd\n",
    "from keras import datasets, layers, models\n",
    "import warnings\n",
    "import tensorflow as tf\n",
    "from tensorflow.examples.tutorials.mnist import input_data\n",
    "warnings.filterwarnings('ignore')"
   ]
  },
  {
   "cell_type": "code",
   "execution_count": 6,
   "metadata": {
    "scrolled": false
   },
   "outputs": [
    {
     "name": "stdout",
     "output_type": "stream",
     "text": [
      "Extracting MNIST_data/train-images-idx3-ubyte.gz\n",
      "Extracting MNIST_data/train-labels-idx1-ubyte.gz\n",
      "Extracting MNIST_data/t10k-images-idx3-ubyte.gz\n",
      "Extracting MNIST_data/t10k-labels-idx1-ubyte.gz\n",
      "the accuracy of step0 is 0.06790000200271606\n",
      "the accuracy of step100 is 0.8988000154495239\n",
      "the accuracy of step200 is 0.9395999908447266\n",
      "the accuracy of step300 is 0.9531000256538391\n",
      "the accuracy of step400 is 0.9587000012397766\n",
      "the accuracy of step500 is 0.9660999774932861\n",
      "the accuracy of step600 is 0.9684000015258789\n",
      "the accuracy of step700 is 0.9724000096321106\n",
      "the accuracy of step800 is 0.9728000164031982\n",
      "the accuracy of step900 is 0.9740999937057495\n",
      "the accuracy of step1000 is 0.9771000146865845\n",
      "the accuracy of step1100 is 0.9793000221252441\n",
      "the accuracy of step1200 is 0.9800999760627747\n",
      "the accuracy of step1300 is 0.9812999963760376\n",
      "the accuracy of step1400 is 0.9812999963760376\n",
      "the accuracy of step1500 is 0.9812999963760376\n",
      "the accuracy of step1600 is 0.9814000129699707\n",
      "the accuracy of step1700 is 0.9836999773979187\n",
      "the accuracy of step1800 is 0.9829000234603882\n",
      "the accuracy of step1900 is 0.9839000105857849\n"
     ]
    }
   ],
   "source": [
    "mnist=input_data.read_data_sets(\"MNIST_data\",one_hot=True)\n",
    "xs=tf.placeholder(tf.float32,[None,784]) #pics\n",
    "ys=tf.placeholder(tf.float32,[None,10])#labels\n",
    "keep_prob=tf.placeholder(tf.float32)\n",
    "Image=tf.reshape(xs,[-1,28,28,1])\n",
    "\n",
    "def weight_value(shape):\n",
    "    init=tf.truncated_normal(shape,mean=0.0,stddev=0.1)\n",
    "    return tf.Variable(init)\n",
    "\n",
    "def biase_value(shape):\n",
    "    init=tf.constant(0.1,shape=shape)\n",
    "    return tf.Variable(init)\n",
    "\n",
    "#Convolution\n",
    "def conv2d(Inputs,Weight):\n",
    "    return tf.nn.conv2d(Inputs,Weight,strides=[1,1,1,1],padding='SAME')\n",
    "\n",
    "#Pooling\n",
    "def maxpooling(Inputs):\n",
    "    return tf.nn.max_pool(Inputs,ksize=[1,2,2,1],strides=[1,2,2,1],padding='SAME')\n",
    " \n",
    "#Convolution1\n",
    "conv1_W=weight_value([5,5,1,32])\n",
    "conv1_b=biase_value([32])\n",
    "conv1_h=tf.nn.relu(conv2d(Image,conv1_W)+conv1_b)\n",
    "conv1_out=maxpooling(conv1_h)\n",
    "\n",
    "#Convolution2\n",
    "conv2_W=weight_value([5,5,32,64])\n",
    "conv2_b=biase_value([64])\n",
    "conv2_h=tf.nn.relu(conv2d(conv1_out,conv2_W)+conv2_b)\n",
    "conv2_out=maxpooling(conv2_h)\n",
    "\n",
    "#Fully connected layer\n",
    "fcnn_in=tf.reshape(conv2_out,[-1,49*64])\n",
    "fcnn1_W=weight_value([49*64,49*64])\n",
    "fcnn1_b=biase_value([49*64])\n",
    "fcnn1_out=tf.nn.relu(tf.matmul(fcnn_in,fcnn1_W)+fcnn1_b)\n",
    "fcnn1_dropout=tf.nn.dropout(fcnn1_out,keep_prob)\n",
    "fcnn2_W=weight_value([49*64,10])\n",
    "fcnn2_b=biase_value([10])\n",
    "prediction=tf.nn.softmax(tf.matmul(fcnn1_dropout,fcnn2_W)+fcnn2_b)\n",
    "\n",
    "\n",
    "cross_entropy=-tf.reduce_sum(ys*tf.log(prediction))\n",
    "num=tf.equal(tf.argmax(prediction,1),tf.argmax(ys,1))\n",
    "accurate=tf.reduce_mean(tf.cast(num,tf.float32))\n",
    "\n",
    "#train\n",
    "train_step=tf.train.AdamOptimizer(1e-4).minimize(cross_entropy)\n",
    " \n",
    "sess=tf.Session()\n",
    "sess.run(tf.initialize_all_variables())\n",
    " \n",
    "for step in range(2000):\n",
    "    batch_x,batch_y=mnist.train.next_batch(100)\n",
    "    sess.run(train_step,feed_dict={xs:batch_x,ys:batch_y,keep_prob:0.5})\n",
    "    if step%100==0:\n",
    "        print(\"the accuracy of step{} is {}\".\n",
    "              format(step,\n",
    "                     sess.run(accurate,feed_dict={xs:mnist.test.images,ys:mnist.test.labels,keep_prob:1.0})))"
   ]
  },
  {
   "cell_type": "code",
   "execution_count": null,
   "metadata": {},
   "outputs": [],
   "source": []
  }
 ],
 "metadata": {
  "kernelspec": {
   "display_name": "Python 3",
   "language": "python",
   "name": "python3"
  },
  "language_info": {
   "codemirror_mode": {
    "name": "ipython",
    "version": 3
   },
   "file_extension": ".py",
   "mimetype": "text/x-python",
   "name": "python",
   "nbconvert_exporter": "python",
   "pygments_lexer": "ipython3",
   "version": "3.7.4"
  }
 },
 "nbformat": 4,
 "nbformat_minor": 2
}
